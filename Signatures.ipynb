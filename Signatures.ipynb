{
 "cells": [
  {
   "cell_type": "code",
   "execution_count": 1,
   "id": "5ab53e05-e6fd-46cc-a445-7d658af3e03e",
   "metadata": {},
   "outputs": [],
   "source": [
    "N=9\n",
    "\n",
    "def reverse_f(f):\n",
    "    return f[::-1].replace('-','0').replace('+','-').replace('0','+')\n",
    "def reverse(X):\n",
    "    return {reverse_f(x) for x in X}\n",
    "def concat(X,Y):\n",
    "    return {x+y for x in X for y in Y}"
   ]
  },
  {
   "cell_type": "code",
   "execution_count": 2,
   "id": "def6181f-5a53-467c-b511-5b0d86933f23",
   "metadata": {},
   "outputs": [],
   "source": [
    "Todas = [bin(f)[3:].replace('0','-').replace('1','+') for f in range(2,2**(N))]\n",
    "Bb = [[set() for k in range(N)] for n in range(N)]\n",
    "Bt = [[set() for k in range(N)] for n in range(N)]\n",
    "Tb = [[set() for k in range(N)] for n in range(N)]\n",
    "Tt = [[set() for k in range(N)] for n in range(N)]"
   ]
  },
  {
   "cell_type": "code",
   "execution_count": 3,
   "id": "96600a8f-f041-4242-8273-f16bdfadde27",
   "metadata": {},
   "outputs": [],
   "source": [
    "for f in Todas:\n",
    "    m=len(f)\n",
    "    for k in range(N-m):\n",
    "        if '--' not in f and f[0] == '+':\n",
    "            Bb[m+k][k].add(f)\n",
    "        if '++' not in f and f[0] == '-':\n",
    "            Tt[m+k][k].add(f)\n",
    "        if '-' not in f and m>=k:\n",
    "            Bt[m+k][k].add(f)\n",
    "        if '+' not in f and m>=k:\n",
    "            Tb[m+k][k].add(f)"
   ]
  },
  {
   "cell_type": "code",
   "execution_count": 4,
   "id": "b5025983-e339-4573-993d-90eeaab85663",
   "metadata": {},
   "outputs": [],
   "source": [
    "for i in range(N):\n",
    "    for n in range(N):\n",
    "        for k in range(n+1):\n",
    "            for l in range(k+1):\n",
    "                Bb[n][l] |= concat(Bb[n][k],Bb[k][l])\n",
    "                Bt[n][l] |= concat(Bb[n][k],Bt[k][l])\n",
    "                Bb[n][l] |= concat(Bt[n][k],Tb[k][l])\n",
    "                Bt[n][l] |= concat(Bt[n][k],Tt[k][l])\n",
    "                Tb[n][l] |= concat(Tb[n][k],Bb[k][l])\n",
    "                Tt[n][l] |= concat(Tb[n][k],Bt[k][l])\n",
    "                Tb[n][l] |= concat(Tt[n][k],Tb[k][l])\n",
    "                Tt[n][l] |= concat(Tt[n][k],Tt[k][l])"
   ]
  },
  {
   "cell_type": "code",
   "execution_count": 5,
   "id": "df6f0a19-a2ae-41c3-b210-7b0fe3f1ce80",
   "metadata": {},
   "outputs": [],
   "source": [
    "Realizables = [set() for _ in range(N)]\n",
    "\n",
    "#Realizables[8] |= concat(concat(reverse(Bt[3][0]),{'++'}),Tb[3][0])\n",
    "#Realizables[8] |= concat(concat(reverse(Tb[3][0]),{'--'}),Bt[3][0])\n",
    "#Realizables[9] |= concat(concat(reverse(Bt[3][0]),{'++'}),Tb[4][0])\n",
    "#Realizables[9] |= concat(concat(reverse(Tb[3][0]),{'--'}),Bt[4][0])\n",
    "#Realizables[9] |= concat(concat(reverse(Bt[4][0]),{'++'}),Tb[3][0])\n",
    "#Realizables[9] |= concat(concat(reverse(Tb[4][0]),{'--'}),Bt[3][0])\n",
    "\n",
    "for n in range(N):\n",
    "    Realizables[n] |= Bb[n][0] | Bt[n][0] | Tb[n][0] | Tt[n][0]\n",
    "    for k in range(n):\n",
    "        Realizables[n] |= concat(reverse(Bt[n-k][0]),Bt[k][0])\n",
    "        Realizables[n] |= concat(reverse(Tb[n-k][0]),Tb[k][0])\n",
    "    Realizables[n] |= reverse(Realizables[n])"
   ]
  },
  {
   "cell_type": "code",
   "execution_count": null,
   "id": "529e6962-59dd-4e5f-ad7f-70a5c8903f9f",
   "metadata": {},
   "outputs": [],
   "source": []
  },
  {
   "cell_type": "code",
   "execution_count": 6,
   "id": "08bf03e4-1b0f-4bdf-9b59-f4cc2e17ec32",
   "metadata": {},
   "outputs": [
    {
     "data": {
      "text/plain": [
       "248"
      ]
     },
     "execution_count": 6,
     "metadata": {},
     "output_type": "execute_result"
    }
   ],
   "source": [
    "len(Realizables[8])"
   ]
  },
  {
   "cell_type": "code",
   "execution_count": 7,
   "id": "90eaa237-b3d9-46c3-a3c7-c444f487aaca",
   "metadata": {
    "tags": []
   },
   "outputs": [
    {
     "name": "stdout",
     "output_type": "stream",
     "text": [
      "3\n",
      "+--++---\n",
      "+--++--+\n",
      "+++--+++\n"
     ]
    }
   ],
   "source": [
    "UnRealizables=[]\n",
    "for f in Todas:\n",
    "    if f[0]=='+' and f not in Realizables[len(f)] and reverse_f(f) not in UnRealizables and f[::-1] not in UnRealizables:\n",
    "        UnRealizables.append(f)\n",
    "print(len(UnRealizables))\n",
    "print('\\n'.join(UnRealizables))"
   ]
  },
  {
   "cell_type": "code",
   "execution_count": null,
   "id": "c5177eb8-5323-4475-abd5-5e51f8d50b99",
   "metadata": {},
   "outputs": [],
   "source": []
  }
 ],
 "metadata": {
  "kernelspec": {
   "display_name": "Python 3 (ipykernel)",
   "language": "python",
   "name": "python3"
  },
  "language_info": {
   "codemirror_mode": {
    "name": "ipython",
    "version": 3
   },
   "file_extension": ".py",
   "mimetype": "text/x-python",
   "name": "python",
   "nbconvert_exporter": "python",
   "pygments_lexer": "ipython3",
   "version": "3.13.2"
  }
 },
 "nbformat": 4,
 "nbformat_minor": 5
}
